{
 "cells": [
  {
   "cell_type": "code",
   "execution_count": 1,
   "id": "a336abfa",
   "metadata": {},
   "outputs": [],
   "source": [
    "import pandas as pd\n",
    "from sklearn.model_selection import train_test_split\n",
    "from sklearn.feature_extraction.text import TfidfVectorizer\n",
    "from sklearn.metrics import classification_report, confusion_matrix\n",
    "import seaborn as sns\n",
    "import nltk\n",
    "from nltk.corpus import stopwords\n",
    "import matplotlib.pyplot as plt"
   ]
  },
  {
   "cell_type": "code",
   "execution_count": null,
   "id": "32c9d33d",
   "metadata": {},
   "outputs": [],
   "source": [
    "filepath = f'fake reviews dataset.csv'\n",
    "df = pd.read_csv(filepath)\n",
    "\n",
    "nltk.download('stopwords')\n",
    "stop_words = set(stopwords.words('english'))\n",
    "\n",
    "def preprocess_text(text):\n",
    "    text = text.lower()\n",
    "    text = ' '.join([word for word in text.split() if word not in stop_words])\n",
    "    return text\n",
    "\n",
    "df['review'] = df['text_'].apply(preprocess_text)\n",
    "X = df['review']\n",
    "y = df['label']  \n",
    "\n",
    "X_train, X_test, y_train, y_test = train_test_split(X, y, test_size=0.2, random_state=42)\n",
    "\n",
    "def plot_confusion_matrix(cm, model_name):\n",
    "    plt.figure(figsize=(10, 7))\n",
    "    sns.heatmap(cm, annot=True, fmt='d', cmap='Blues')\n",
    "    plt.title(f'{model_name} Confusion Matrix')\n",
    "    plt.xlabel('Predicted')\n",
    "    plt.ylabel('Actual')\n",
    "    plt.show()"
   ]
  },
  {
   "cell_type": "code",
   "execution_count": 3,
   "id": "f4b3294b",
   "metadata": {},
   "outputs": [],
   "source": [
    "vectorizer = TfidfVectorizer(max_features=5000)\n",
    "X_train_tfidf = vectorizer.fit_transform(X_train)\n",
    "X_test_tfidf = vectorizer.transform(X_test)"
   ]
  },
  {
   "cell_type": "code",
   "execution_count": null,
   "id": "f1e77320",
   "metadata": {},
   "outputs": [],
   "source": [
    "def train_and_evaluate_models(X_train, X_test, y_train, y_test):\n",
    "    models = {\n",
    "        'Logistic Regression': LogisticRegression(),\n",
    "        'SVM': SVC(),\n",
    "        'Random Forest': RandomForestClassifier(),\n",
    "        'XGBoost': XGBClassifier()\n",
    "    }\n",
    "\n",
    "    accuracies = {}\n",
    "\n",
    "    for model_name, model in models.items():\n",
    "        model.fit(X_train_tfidf, y_train)\n",
    "        y_pred = model.predict(X_test_tfidf)\n",
    "        accuracies[model_name] = accuracy_score(y_test, y_pred)\n",
    "\n",
    "        print(f'{model_name} Classification Report:\\n{classification_report(y_test, y_pred)}')\n",
    "        \n",
    "        cm = confusion_matrix(y_test, y_pred)\n",
    "        print(f'{model_name} Confusion Matrix:\\n{cm}')\n",
    "        plot_confusion_matrix(cm, model_name)\n",
    "\n",
    "    return accuracies\n",
    "\n",
    "model_accuracies = train_and_evaluate_models(X_train, X_test, y_train, y_test)"
   ]
  },
  {
   "cell_type": "code",
   "execution_count": null,
   "id": "0adcab9c",
   "metadata": {},
   "outputs": [],
   "source": [
    "X_train_tensor = torch.FloatTensor(X_train_tfidf.toarray()).to(device)\n",
    "X_test_tensor = torch.FloatTensor(X_test_tfidf.toarray()).to(device)\n",
    "y_train_tensor = torch.FloatTensor(y_train).to(device)\n",
    "y_test_tensor = torch.FloatTensor(y_test).to(device)\n",
    "\n",
    "class LSTMModel(nn.Module):\n",
    "    def _init_(self, input_size, hidden_size=250, num_layers=1):\n",
    "        super(LSTMModel, self)._init_()\n",
    "        self.hidden_size = hidden_size\n",
    "        self.num_layers = num_layers\n",
    "        \n",
    "        self.lstm = nn.LSTM(input_size, hidden_size, num_layers, batch_first=True)\n",
    "        self.dropout = nn.Dropout(0.3)\n",
    "        self.fc = nn.Linear(hidden_size, 1)\n",
    "        self.sigmoid = nn.Sigmoid()\n",
    "        \n",
    "    def forward(self, x):\n",
    "        # Reshape input for LSTM [batch_size, seq_length, input_size]\n",
    "        x = x.unsqueeze(1)\n",
    "        \n",
    "        h0 = torch.zeros(self.num_layers, x.size(0), self.hidden_size).to(device)\n",
    "        c0 = torch.zeros(self.num_layers, x.size(0), self.hidden_size).to(device)\n",
    "       \n",
    "        out, _ = self.lstm(x, (h0, c0))\n",
    "        out = self.dropout(out[:, -1, :])\n",
    "        out = self.fc(out)\n",
    "        out = self.sigmoid(out)\n",
    "        return out.squeeze()"
   ]
  }
 ],
 "metadata": {
  "kernelspec": {
   "display_name": "base",
   "language": "python",
   "name": "python3"
  },
  "language_info": {
   "codemirror_mode": {
    "name": "ipython",
    "version": 3
   },
   "file_extension": ".py",
   "mimetype": "text/x-python",
   "name": "python",
   "nbconvert_exporter": "python",
   "pygments_lexer": "ipython3",
   "version": "3.12.4"
  }
 },
 "nbformat": 4,
 "nbformat_minor": 5
}
